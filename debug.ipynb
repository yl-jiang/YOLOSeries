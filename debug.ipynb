{
 "cells": [
  {
   "cell_type": "code",
   "execution_count": 1,
   "metadata": {},
   "outputs": [
    {
     "name": "stderr",
     "output_type": "stream",
     "text": [
      "/home/uih/anaconda3/envs/torch1.7/lib/python3.7/site-packages/tqdm/auto.py:22: TqdmWarning: IProgress not found. Please update jupyter and ipywidgets. See https://ipywidgets.readthedocs.io/en/stable/user_install.html\n",
      "  from .autonotebook import tqdm as notebook_tqdm\n"
     ]
    }
   ],
   "source": [
    "import torch\n",
    "def make_anchors(feats, strides, grid_cell_offset=0.5):\n",
    "    \"\"\"Generate anchors from features.\"\"\"\n",
    "    anchor_points, stride_tensor = [], []\n",
    "    assert feats is not None\n",
    "    dtype, device = feats[0].dtype, feats[0].device\n",
    "    for i, stride in enumerate(strides):\n",
    "        _, _, h, w = feats[i].shape\n",
    "        sx = torch.arange(end=w, device=device, dtype=dtype) + grid_cell_offset  # shift x\n",
    "        sy = torch.arange(end=h, device=device, dtype=dtype) + grid_cell_offset  # shift y\n",
    "        sy, sx = torch.meshgrid(sy, sx)\n",
    "        anchor_points.append(torch.stack((sx, sy), -1).view(-1, 2))\n",
    "        stride_tensor.append(torch.full((h * w, 1), stride, dtype=dtype, device=device))\n",
    "    return torch.cat(anchor_points), torch.cat(stride_tensor)"
   ]
  },
  {
   "cell_type": "code",
   "execution_count": 2,
   "metadata": {},
   "outputs": [
    {
     "data": {
      "text/plain": [
       "(tensor([[ 0.5000,  0.5000],\n",
       "         [ 1.5000,  0.5000],\n",
       "         [ 2.5000,  0.5000],\n",
       "         ...,\n",
       "         [17.5000, 19.5000],\n",
       "         [18.5000, 19.5000],\n",
       "         [19.5000, 19.5000]]),\n",
       " tensor([[ 4.],\n",
       "         [ 4.],\n",
       "         [ 4.],\n",
       "         ...,\n",
       "         [32.],\n",
       "         [32.],\n",
       "         [32.]]))"
      ]
     },
     "execution_count": 2,
     "metadata": {},
     "output_type": "execute_result"
    }
   ],
   "source": [
    "feats = [torch.rand(4, 65, 160, 160), torch.rand(4, 65, 80, 80), torch.rand(4, 65, 40, 40), torch.rand(4, 65, 20, 20)]\n",
    "strides = [4, 8, 16, 32]\n",
    "make_anchors(feats, strides)"
   ]
  },
  {
   "cell_type": "code",
   "execution_count": null,
   "metadata": {},
   "outputs": [],
   "source": []
  }
 ],
 "metadata": {
  "kernelspec": {
   "display_name": "torch1.7",
   "language": "python",
   "name": "python3"
  },
  "language_info": {
   "codemirror_mode": {
    "name": "ipython",
    "version": 3
   },
   "file_extension": ".py",
   "mimetype": "text/x-python",
   "name": "python",
   "nbconvert_exporter": "python",
   "pygments_lexer": "ipython3",
   "version": "3.7.12"
  },
  "orig_nbformat": 4,
  "vscode": {
   "interpreter": {
    "hash": "18a39dc18bce00359355eb43878a2d26e2d138607c7563218c9c0938077172ca"
   }
  }
 },
 "nbformat": 4,
 "nbformat_minor": 2
}

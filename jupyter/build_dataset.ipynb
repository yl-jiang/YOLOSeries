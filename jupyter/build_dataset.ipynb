{
 "cells": [
  {
   "cell_type": "code",
   "execution_count": 7,
   "id": "0a6eb567-9613-4144-b048-6422cced6e60",
   "metadata": {},
   "outputs": [],
   "source": [
    "import torch\n",
    "import numpy as np\n",
    "from PIL import ImageDraw\n",
    "import random\n",
    "from pycocotools.coco import COCO\n",
    "from pathlib import Path\n",
    "import matplotlib.pyplot as plt\n",
    "from PIL import Image\n",
    "from torch.utils.data import Dataset\n",
    "import pandas as pd\n",
    "from tqdm import tqdm\n",
    "import cv2\n",
    "import numpy as np\n",
    "import sys\n",
    "from tqdm import trange"
   ]
  },
  {
   "cell_type": "code",
   "execution_count": 5,
   "id": "02e71a3f-a32b-423d-b3a5-88677cf17a95",
   "metadata": {},
   "outputs": [],
   "source": [
    "class WheatDataset(Dataset):\n",
    "    \"\"\"\n",
    "    for cocodataset\n",
    "    \"\"\"\n",
    "\n",
    "    def __init__(self, hyp):\n",
    "        self.data_dir = Path(hyp['data_dir'])\n",
    "        self.img_dir = self.data_dir / \"train\"\n",
    "        self.box_path = self.data_dir / \"train.csv\"\n",
    "        assert self.box_path.exists(), f\"csv file not found in: {self.box_path}\"\n",
    "        \n",
    "        self.csv = pd.read_csv(str(self.box_path))\n",
    "        self.img_ids = self.csv['image_id'].unique()\n",
    "        self.db = self._get_db()\n",
    "        self.num_class = 1\n",
    "        super(Dataset, self).__init__()\n",
    "\n",
    "    def __len__(self):\n",
    "        return len(self.img_ids)\n",
    "\n",
    "    def _get_db(self):\n",
    "        box_all = {}\n",
    "        for img_id in tqdm(self.img_ids, total=len(self.img_ids), file=sys.stdout, desc=\"loading dataset ... ... \", ncols=100):\n",
    "            df = self.csv[self.csv['image_id'] == img_id]\n",
    "            h = df.iloc[0, 1]\n",
    "            w = df.iloc[0, 2]\n",
    "            boxes = df['bbox']\n",
    "            xyxy = []\n",
    "            for box in boxes:\n",
    "                box = box.replace('[', '')\n",
    "                box = box.replace(']', '')\n",
    "                box_list = box.split(',')\n",
    "                box_out = [float(x) for x in box_list]\n",
    "                xmin = box_out[0]\n",
    "                ymin = box_out[1]\n",
    "                xmax = box_out[0] + box_out[2]\n",
    "                ymax = box_out[1] + box_out[3]\n",
    "                box_out = [xmin, ymin, xmax, ymax]\n",
    "                xyxy.append(box_out)\n",
    "            xyxy = np.stack(xyxy, axis=0)\n",
    "            box_all[img_id] = {'height': h, 'width': w, 'boxes': xyxy}\n",
    "        return box_all\n",
    "\n",
    "    def _get_one_example(self, item):\n",
    "        \"\"\"\n",
    "\n",
    "        :param item:\n",
    "        :return: img; [xmin, ymin, xmax, ymax]\n",
    "        \"\"\"\n",
    "        img_id = self.img_ids[item]\n",
    "        img_path = self.img_dir / f\"{img_id}.jpg\"\n",
    "        img_arr = cv2.imread(str(img_path))\n",
    "        img_arr = img_arr[:, :, ::-1].copy()\n",
    "        box = self.db[img_id]['boxes']\n",
    "        return img_id, img_arr, box"
   ]
  },
  {
   "cell_type": "code",
   "execution_count": 6,
   "id": "39c47192-4229-4232-a199-bd814b6cb5b5",
   "metadata": {},
   "outputs": [
    {
     "name": "stdout",
     "output_type": "stream",
     "text": [
      "loading dataset ... ... : 100%|████████████████████████████████| 3373/3373 [00:24<00:00, 138.92it/s]\n"
     ]
    }
   ],
   "source": [
    "hyp = {'data_dir': \"/Volumes/Samsung/Dataset/GlobalWheat/\"}\n",
    "\n",
    "wheat = WheatDataset(hyp)"
   ]
  },
  {
   "cell_type": "code",
   "execution_count": 8,
   "id": "2934d9eb-51b4-46a5-92b6-65b687f31c95",
   "metadata": {},
   "outputs": [
    {
     "name": "stderr",
     "output_type": "stream",
     "text": [
      "100%|███████████████████████████████████████████████████████████████████████████████████████████████████████████████████████████████████████████████████| 3373/3373 [01:00<00:00, 55.66it/s]\n"
     ]
    }
   ],
   "source": [
    "import shutil\n",
    "for i in trange(len(wheat), total=len(wheat)):\n",
    "    ix, im, box = wheat._get_one_example(i)\n",
    "    src = Path(\"/Volumes/Samsung/Dataset/GlobalWheat/train/\") / f\"{ix}.jpg\"\n",
    "    dst = Path(\"/Volumes/Samsung/Dataset/GlobalWheat/image/\") / f\"{ix}.jpg\"\n",
    "    shutil.copy(str(src), str(dst))"
   ]
  },
  {
   "cell_type": "code",
   "execution_count": 9,
   "id": "a3727169-b4ac-4378-8591-37fa8357e0d6",
   "metadata": {},
   "outputs": [],
   "source": [
    "for i in trange(len(wheat)):\n",
    "    ix, im, box = wheat._get_one_example(i)\n",
    "    with open(\"/Volumes/Samsung/Dataset/GlobalWheat/label/\" + f\"{ix}.txt\", 'w') as f:\n",
    "        for b in box:\n",
    "            f.write(f\"0 {b[0]} {b[1]} {b[2]} {b[3]}\\n\")"
   ]
  },
  {
   "cell_type": "code",
   "execution_count": 10,
   "id": "8f2754f6-0f32-45cb-981c-0526794bc699",
   "metadata": {},
   "outputs": [],
   "source": [
    "import cv2\n",
    "import json\n",
    "import numpy as np\n",
    "from abc import ABC\n",
    "from PIL import Image\n",
    "from pathlib import Path\n",
    "import matplotlib.pyplot as plt\n",
    "\n",
    "\n",
    "class COCOGenerator(ABC):\n",
    "\n",
    "    def __init__(self, data_dir, setname, use_crowd):\n",
    "        self.setname = setname\n",
    "        self.data_dir = Path(data_dir)\n",
    "        self.use_crowd = use_crowd\n",
    "        self.annpath = self.data_dir / 'annotations' / f'instances_{setname}.json'\n",
    "        self.coco = COCO(self.annpath)\n",
    "        self.img_ids = self.coco.getImgIds()\n",
    "        self.classes, self.class2id, self.id2class, self.class2label, self.label2class = [], {}, {}, {}, {}\n",
    "        self.get_coco_info()\n",
    "        self.num_class = len(self.classes)\n",
    "        super(COCOGenerator, self).__init__()\n",
    "\n",
    "    def get_coco_info(self):\n",
    "        \"\"\"\n",
    "        pass\n",
    "        \"\"\"\n",
    "        category_info = self.coco.loadCats(ids=self.coco.getCatIds())\n",
    "        category_info.sort(key=lambda x: int(x['id']))\n",
    "        for category in category_info:\n",
    "            # self.classes.append(category['id'])\n",
    "            self.class2id[len(self.classes)] = category['id']\n",
    "            self.id2class[category['id']] = len(self.classes)\n",
    "            self.class2label[len(self.classes)] = category['name']\n",
    "            self.label2class[category['name']] = len(self.classes)\n",
    "            self.classes.append(category['id'])\n",
    "\n",
    "    def __len__(self):\n",
    "        return len(self.img_ids)\n",
    "\n",
    "    def size(self):\n",
    "        \"\"\"\n",
    "        Size of COCO dataset.\n",
    "        :return:\n",
    "        \"\"\"\n",
    "        return len(self.img_ids)\n",
    "\n",
    "    def has_label(self, label):\n",
    "        return label in self.class2label\n",
    "\n",
    "    def has_name(self, name):\n",
    "        return name in self.label2class\n",
    "\n",
    "    def label_to_name(self, label):\n",
    "        return self.class2label[label]\n",
    "\n",
    "    def name_to_label(self, name):\n",
    "        return self.label2class[name]\n",
    "\n",
    "    def coco_id_to_class(self, coco_id):\n",
    "        return self.id2class[coco_id]\n",
    "\n",
    "    def coco_id_to_label(self, coco_id):\n",
    "        return self.class2label[self.coco_id_to_class(coco_id)]\n",
    "\n",
    "    def get_img_path(self, idx):\n",
    "        return str(self.data_dir / self.setname / f'{self.img_ids[idx]:>012}.jpg')\n",
    "\n",
    "    def load_annotations(self, idx):\n",
    "        \"\"\"\n",
    "\n",
    "        :param idx:\n",
    "        :return: return box formate -> [xmin, ymin, xmax, ymax]\n",
    "        \"\"\"\n",
    "        ann_ids = self.coco.getAnnIds(imgIds=self.img_ids[idx], iscrowd=self.use_crowd)\n",
    "        annotations = {'classes': np.empty((0,), dtype=np.uint16), 'bboxes': np.empty((0, 4), dtype=np.float32)}\n",
    "        # 有些img没有annotations\n",
    "        if len(ann_ids) == 0:\n",
    "            return annotations\n",
    "        else:\n",
    "            # anns is a list\n",
    "            anns = self.coco.loadAnns(ids=ann_ids)\n",
    "            for idx, ann in enumerate(anns):\n",
    "                # 有些annotations中bbox的width/height值小于1，遇到这样的bbox就舍弃掉\n",
    "                if (ann['bbox'][2]) < 1 or (ann['bbox'][3] < 1):\n",
    "                    continue\n",
    "                else:\n",
    "                    annotations['classes'] = np.concatenate([annotations['classes'],\n",
    "                                                             [self.coco_id_to_class(ann['category_id'])]],\n",
    "                                                            axis=0)\n",
    "                    annotations['bboxes'] = np.concatenate([annotations['bboxes'],\n",
    "                                                            [[ann['bbox'][0],\n",
    "                                                              ann['bbox'][1],\n",
    "                                                              ann['bbox'][0] + ann['bbox'][2],\n",
    "                                                              ann['bbox'][1] + ann['bbox'][3]]]],\n",
    "                                                           axis=0)\n",
    "        return annotations"
   ]
  },
  {
   "cell_type": "code",
   "execution_count": 18,
   "id": "bba8ab8c-945d-4ab3-90ff-7a4dced153ef",
   "metadata": {},
   "outputs": [
    {
     "name": "stdout",
     "output_type": "stream",
     "text": [
      "loading annotations into memory...\n",
      "Done (t=0.37s)\n",
      "creating index...\n",
      "index created!\n"
     ]
    }
   ],
   "source": [
    "coco = COCOGenerator(\"/Volumes/Samsung/Dataset/COCO/\", \"val2017\", False)"
   ]
  },
  {
   "cell_type": "code",
   "execution_count": 20,
   "id": "d7e85cb7-5310-4ceb-bcdb-2ee45ab591a8",
   "metadata": {},
   "outputs": [
    {
     "name": "stderr",
     "output_type": "stream",
     "text": [
      "100%|██████████████████████████████████████████████████████████████████████████████████████████████████████████████████████████████████████████████████| 5000/5000 [00:08<00:00, 571.71it/s]\n"
     ]
    }
   ],
   "source": [
    "for i in tqdm(range(len(coco)), total=len(coco)):\n",
    "    ann = coco.load_annotations(i)\n",
    "    img_id = coco.img_ids[i]\n",
    "    box = ann['bboxes']\n",
    "    cls_ = ann['classes']\n",
    "    img_src = coco.get_img_path(i)\n",
    "    assert Path(img_src).exists()\n",
    "    img_dst = Path(\"/Volumes/Samsung/Dataset/COCO/val_dataset/image/\") / f\"{img_id}.jpg\"\n",
    "    shutil.copy(str(img_src), str(img_dst))\n",
    "    with open(\"/Volumes/Samsung/Dataset/COCO/val_dataset/label/\" + f\"{img_id}.txt\", 'w') as f:\n",
    "        for c, b in zip(cls_, box):\n",
    "            f.write(f\"{c} {b[0]} {b[1]} {b[2]} {b[3]}\\n\")"
   ]
  },
  {
   "cell_type": "code",
   "execution_count": 21,
   "id": "f245f7a8-7a02-4757-97b0-cdc4999060fe",
   "metadata": {},
   "outputs": [],
   "source": [
    "with open(\"/Volumes/Samsung/Dataset/COCO/val_dataset/names.txt\", 'w') as f:\n",
    "    for k, v in coco.class2label.items():\n",
    "        f.write(f\"{k} {v}\\n\")"
   ]
  },
  {
   "cell_type": "code",
   "execution_count": null,
   "id": "0b9c6b59-06e7-469c-95cf-d5625e625e65",
   "metadata": {},
   "outputs": [],
   "source": []
  },
  {
   "cell_type": "code",
   "execution_count": 14,
   "id": "554abf14-409d-4e55-a275-a2ab508dd60d",
   "metadata": {},
   "outputs": [],
   "source": [
    "a = np.empty(shape=[1, 5])"
   ]
  },
  {
   "cell_type": "code",
   "execution_count": 16,
   "id": "a10b696c-350f-4c6c-a13f-bf16ff27d442",
   "metadata": {},
   "outputs": [
    {
     "data": {
      "text/plain": [
       "array([[0., 0., 0., 0.]])"
      ]
     },
     "execution_count": 16,
     "metadata": {},
     "output_type": "execute_result"
    }
   ],
   "source": [
    "a[:, 1:]"
   ]
  },
  {
   "cell_type": "code",
   "execution_count": 17,
   "id": "1add2e6b-d1c7-4c82-8664-d6ecce78e3b0",
   "metadata": {},
   "outputs": [
    {
     "data": {
      "text/plain": [
       "(1, 5)"
      ]
     },
     "execution_count": 17,
     "metadata": {},
     "output_type": "execute_result"
    }
   ],
   "source": [
    "a.shape"
   ]
  },
  {
   "cell_type": "code",
   "execution_count": null,
   "id": "1eea810c-325a-4d3f-b40a-ab02dc5e8436",
   "metadata": {},
   "outputs": [],
   "source": []
  }
 ],
 "metadata": {
  "kernelspec": {
   "display_name": "Python 3 (ipykernel)",
   "language": "python",
   "name": "python3"
  },
  "language_info": {
   "codemirror_mode": {
    "name": "ipython",
    "version": 3
   },
   "file_extension": ".py",
   "mimetype": "text/x-python",
   "name": "python",
   "nbconvert_exporter": "python",
   "pygments_lexer": "ipython3",
   "version": "3.8.11"
  }
 },
 "nbformat": 4,
 "nbformat_minor": 5
}

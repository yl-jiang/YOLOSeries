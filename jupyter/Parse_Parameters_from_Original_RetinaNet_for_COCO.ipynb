{
 "cells": [
  {
   "cell_type": "code",
   "execution_count": 1,
   "id": "6fc7816f",
   "metadata": {},
   "outputs": [],
   "source": [
    "import sys\n",
    "sys.path.insert(0, \"/home/uih/JYL/Programs/YOLO/\")\n",
    "import torch\n",
    "from models import RetinaNet"
   ]
  },
  {
   "cell_type": "code",
   "execution_count": 2,
   "id": "c0622cd3",
   "metadata": {},
   "outputs": [],
   "source": [
    "class_num = 80"
   ]
  },
  {
   "cell_type": "code",
   "execution_count": 3,
   "id": "6d3e377a",
   "metadata": {},
   "outputs": [],
   "source": [
    "model = RetinaNet(9, class_num, [3, 4, 6, 3], freeze_bn=False)\n",
    "my_state_dict = model.state_dict()"
   ]
  },
  {
   "cell_type": "code",
   "execution_count": 4,
   "id": "ed20e690",
   "metadata": {
    "scrolled": true,
    "tags": []
   },
   "outputs": [],
   "source": [
    "my_total_k = []\n",
    "my_total_v = []\n",
    "my_convs = []\n",
    "my_bns = []\n",
    "for i, (k, v) in enumerate(my_state_dict.items()):\n",
    "    my_total_k.append(k)\n",
    "    my_total_v.append(v)\n",
    "    if 'conv' in k:\n",
    "        my_convs.append(v)\n",
    "    if 'bn' in k and \"num_batches_tracked\" not in k:\n",
    "        my_bns.append(v)\n",
    "    # print(f'{i}: {k}\\t\\t{v.shape}')"
   ]
  },
  {
   "cell_type": "code",
   "execution_count": 5,
   "id": "918e52a4",
   "metadata": {},
   "outputs": [
    {
     "data": {
      "text/plain": [
       "(65, 196)"
      ]
     },
     "execution_count": 5,
     "metadata": {},
     "output_type": "execute_result"
    }
   ],
   "source": [
    "len(my_convs), len(my_bns)"
   ]
  },
  {
   "cell_type": "code",
   "execution_count": 6,
   "id": "597fb691",
   "metadata": {},
   "outputs": [],
   "source": [
    "org_state_dict = torch.load('/home/uih/JYL/Programs/YOLO_ckpts/coco_resnet_50_map_0_335_state_dict.pt', map_location='cpu')"
   ]
  },
  {
   "cell_type": "code",
   "execution_count": 7,
   "id": "d62d4fb7",
   "metadata": {},
   "outputs": [],
   "source": [
    "# v5_state_dict = org_state_dict['model_state_dict']"
   ]
  },
  {
   "cell_type": "code",
   "execution_count": 8,
   "id": "c31fba55",
   "metadata": {
    "scrolled": true,
    "tags": []
   },
   "outputs": [],
   "source": [
    "org_total_k, org_total_v = [], []\n",
    "convs = []\n",
    "bns = []\n",
    "for i, (k, v) in enumerate(org_state_dict.items()):\n",
    "    if 'conv' in k:\n",
    "        convs.append(v)\n",
    "    if 'bn' in k:\n",
    "        bns.append(v)\n",
    "    org_total_k.append(k)\n",
    "    org_total_v.append(v)\n",
    "    # print(f'{i}: {k}\\t\\t{v.shape}')"
   ]
  },
  {
   "cell_type": "code",
   "execution_count": 9,
   "id": "8d6cd4cd",
   "metadata": {},
   "outputs": [
    {
     "data": {
      "text/plain": [
       "(65, 196)"
      ]
     },
     "execution_count": 9,
     "metadata": {},
     "output_type": "execute_result"
    }
   ],
   "source": [
    "len(convs), len(bns)"
   ]
  },
  {
   "cell_type": "code",
   "execution_count": 10,
   "id": "264fb90f",
   "metadata": {},
   "outputs": [
    {
     "name": "stdout",
     "output_type": "stream",
     "text": [
      "sum(l) = True\n"
     ]
    }
   ],
   "source": [
    "l = []\n",
    "for i, j in zip(my_convs, convs):\n",
    "    l.append(i.shape == j.shape)\n",
    "print(f\"sum(l) = {len(my_convs) == sum(l)}\")"
   ]
  },
  {
   "cell_type": "code",
   "execution_count": 11,
   "id": "b2833bb6",
   "metadata": {},
   "outputs": [
    {
     "name": "stdout",
     "output_type": "stream",
     "text": [
      "sum(l) = True\n"
     ]
    }
   ],
   "source": [
    "l = []\n",
    "for i, j in zip(my_bns, bns):\n",
    "    l.append(i.shape == j.shape)\n",
    "print(f\"sum(l) = {len(my_bns) == sum(l)}\")"
   ]
  },
  {
   "cell_type": "markdown",
   "id": "599fa25f",
   "metadata": {},
   "source": [
    "## load prarmeters"
   ]
  },
  {
   "cell_type": "code",
   "execution_count": 12,
   "id": "0eed9d8b",
   "metadata": {},
   "outputs": [
    {
     "name": "stdout",
     "output_type": "stream",
     "text": [
      "i = 289, classification.output.weight, torch.Size([720, 256, 3, 3]), torch.Size([36, 256, 3, 3])\n",
      "i = 290, classification.output.bias, torch.Size([720]), torch.Size([36])\n",
      "i = 299, regression.output.weight, torch.Size([36, 256, 3, 3]), torch.Size([720, 256, 3, 3])\n",
      "i = 300, regression.output.bias, torch.Size([36]), torch.Size([720])\n"
     ]
    }
   ],
   "source": [
    "i = 0\n",
    "for k, v in my_state_dict.items():\n",
    "    if 'num_batches_tracked' in k:\n",
    "        continue\n",
    "    if v.shape != org_total_v[i].shape:\n",
    "        print(f'i = {i}, {k}, {v.shape}, {org_total_v[i].shape}')\n",
    "    i += 1"
   ]
  },
  {
   "cell_type": "code",
   "execution_count": 13,
   "id": "2d6cd736",
   "metadata": {},
   "outputs": [
    {
     "name": "stdout",
     "output_type": "stream",
     "text": [
      "i = 289, classification.output.weight, torch.Size([720, 256, 3, 3]), torch.Size([36, 256, 3, 3])\n",
      "i = 290, classification.output.bias, torch.Size([720]), torch.Size([36])\n",
      "i = 299, regression.output.weight, torch.Size([36, 256, 3, 3]), torch.Size([720, 256, 3, 3])\n",
      "i = 300, regression.output.bias, torch.Size([36]), torch.Size([720])\n"
     ]
    }
   ],
   "source": [
    "i = 0\n",
    "for k, v in my_state_dict.items():\n",
    "    if 'num_batches_tracked' in k:\n",
    "        continue\n",
    "    if v.shape != org_total_v[i].shape:\n",
    "        print(f'i = {i}, {k}, {v.shape}, {org_total_v[i].shape}')\n",
    "    i += 1"
   ]
  },
  {
   "cell_type": "code",
   "execution_count": 14,
   "id": "0d677d17",
   "metadata": {},
   "outputs": [],
   "source": [
    "i, j = 0, 0\n",
    "total = org_total_v[:]\n",
    "for m in model.modules():\n",
    "    if i in [289, 292, 299, 300]:\n",
    "        continue\n",
    "    if isinstance(m, torch.nn.Conv2d):\n",
    "        assert m.weight.data.shape == total[i].shape, f\"{m.weight.data.shape},\\t{total[i].shape}\"\n",
    "        m.weight.data = total[i]\n",
    "        # print(m.weight.data.shape, total[i].shape)\n",
    "        i += 1\n",
    "        if m.bias is not None:\n",
    "            assert m.bias.data.shape == total[i].shape\n",
    "            m.bias.data = total[i]\n",
    "            i += 1\n",
    "        \n",
    "    if isinstance(m, torch.nn.BatchNorm2d):\n",
    "        assert m.weight.data.shape == total[i].shape\n",
    "        m.weight.data = total[i]\n",
    "        i += 1\n",
    "        assert m.bias.data.shape == total[i].shape\n",
    "        m.bias.data = total[i]\n",
    "        i += 1\n",
    "        assert m.running_mean.shape == total[i].shape\n",
    "        m.running_mean = total[i]\n",
    "        i += 1\n",
    "        assert m.running_var.shape == total[i].shape\n",
    "        m.running_var = total[i]\n",
    "        i += 1\n",
    "        # m.num_batches_tracked = total[i]\n",
    "        # i += 1"
   ]
  },
  {
   "cell_type": "code",
   "execution_count": 15,
   "id": "04aa4315",
   "metadata": {},
   "outputs": [
    {
     "data": {
      "text/plain": [
       "289"
      ]
     },
     "execution_count": 15,
     "metadata": {},
     "output_type": "execute_result"
    }
   ],
   "source": [
    "i"
   ]
  },
  {
   "cell_type": "markdown",
   "id": "5fc9c785",
   "metadata": {},
   "source": [
    "## check"
   ]
  },
  {
   "cell_type": "code",
   "execution_count": 16,
   "id": "b652d3c7",
   "metadata": {},
   "outputs": [],
   "source": [
    "i = 0\n",
    "total = org_total_v[:]\n",
    "for m in model.modules():\n",
    "    if i in [289, 292, 299, 300]:\n",
    "        continue\n",
    "    if isinstance(m, torch.nn.Conv2d):\n",
    "        assert (m.weight.data == total[i]).all()\n",
    "        i += 1\n",
    "        if m.bias is not None:\n",
    "            assert (m.bias.data == total[i]).all()\n",
    "            i += 1\n",
    "    if isinstance(m, torch.nn.BatchNorm2d):\n",
    "        assert (m.weight.data == total[i]).all()\n",
    "        i += 1\n",
    "        assert (m.bias.data == total[i]).all()\n",
    "        i += 1\n",
    "        assert (m.running_mean == total[i]).all()\n",
    "        i += 1\n",
    "        assert (m.running_var == total[i]).all()\n",
    "        i += 1\n",
    "        # assert (m.num_batches_tracked == total[i]).all()\n",
    "        # i += 1"
   ]
  },
  {
   "cell_type": "code",
   "execution_count": 17,
   "id": "0afff0e8",
   "metadata": {},
   "outputs": [],
   "source": [
    "my_output_state = model.cpu().state_dict()\n",
    "torch.save({'model_state_dict': my_output_state}, \"/home/uih/JYL/Programs/YOLO_ckpts/retinanet_for_coco.pth\")"
   ]
  },
  {
   "cell_type": "code",
   "execution_count": 18,
   "id": "3a2efacd",
   "metadata": {},
   "outputs": [
    {
     "data": {
      "text/plain": [
       "<All keys matched successfully>"
      ]
     },
     "execution_count": 18,
     "metadata": {},
     "output_type": "execute_result"
    }
   ],
   "source": [
    "st = torch.load('/home/uih/JYL/Programs/YOLO_ckpts/retinanet_for_coco.pth')\n",
    "model.load_state_dict(st[\"model_state_dict\"])"
   ]
  },
  {
   "cell_type": "code",
   "execution_count": null,
   "id": "fe4be58d",
   "metadata": {},
   "outputs": [],
   "source": []
  }
 ],
 "metadata": {
  "kernelspec": {
   "display_name": "Python 3 (ipykernel)",
   "language": "python",
   "name": "python3"
  },
  "language_info": {
   "codemirror_mode": {
    "name": "ipython",
    "version": 3
   },
   "file_extension": ".py",
   "mimetype": "text/x-python",
   "name": "python",
   "nbconvert_exporter": "python",
   "pygments_lexer": "ipython3",
   "version": "3.8.8"
  }
 },
 "nbformat": 4,
 "nbformat_minor": 5
}

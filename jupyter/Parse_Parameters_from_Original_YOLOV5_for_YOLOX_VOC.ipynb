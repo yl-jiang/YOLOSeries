{
 "cells": [
  {
   "cell_type": "code",
   "execution_count": 6,
   "id": "6fc7816f",
   "metadata": {},
   "outputs": [],
   "source": [
    "import sys\n",
    "sys.path.insert(0, \"/home/uih/JYL/Programs/YOLO/\")\n",
    "import torch\n",
    "from models import YoloXSmall, Yolov5Small, Yolov5SmallWithPlainBscp, Yolov5Middle"
   ]
  },
  {
   "cell_type": "code",
   "execution_count": 7,
   "id": "c0622cd3",
   "metadata": {},
   "outputs": [],
   "source": [
    "class_num = 1"
   ]
  },
  {
   "cell_type": "code",
   "execution_count": 8,
   "id": "6d3e377a",
   "metadata": {},
   "outputs": [],
   "source": [
    "# yolo = Yolov5Small(3, class_num)\n",
    "yolo = YoloXSmall(num_anchors=1, in_channel=3, num_classes=class_num)\n",
    "# yolo = Yolov5SmallWithPlainBscp(3, class_num)\n",
    "# yolo = Yolov5Middle(3, class_num)\n",
    "my_state_dict = yolo.state_dict()"
   ]
  },
  {
   "cell_type": "code",
   "execution_count": null,
   "id": "ed20e690",
   "metadata": {
    "scrolled": true,
    "tags": []
   },
   "outputs": [],
   "source": [
    "my_total_k = []\n",
    "my_total_v = []\n",
    "my_focus_layer = []\n",
    "my_stage_1_conv = []\n",
    "for i, (k, v) in enumerate(my_state_dict.items()):\n",
    "    my_total_k.append(k)\n",
    "    my_total_v.append(v)\n",
    "    # print(f'{i}: {k}\\t\\t{v.shape}')\n",
    "    if \"neck\" in k and \"focus\" in k:\n",
    "        my_focus_layer.append(v)\n",
    "        continue\n",
    "    if \"neck\" in k and \"stage1_conv\" in k:\n",
    "        my_stage_1_conv.append(v)"
   ]
  },
  {
   "cell_type": "code",
   "execution_count": 10,
   "id": "597fb691",
   "metadata": {},
   "outputs": [],
   "source": [
    "v5_state_dict = torch.load('/home/uih/JYL/Programs/YOLO_ckpts/yolov5_small_for_voc.pth', map_location='cpu')"
   ]
  },
  {
   "cell_type": "code",
   "execution_count": 11,
   "id": "d62d4fb7",
   "metadata": {},
   "outputs": [],
   "source": [
    "v5_state_dict = v5_state_dict['model_state_dict']"
   ]
  },
  {
   "cell_type": "code",
   "execution_count": null,
   "id": "a6c40a72",
   "metadata": {},
   "outputs": [],
   "source": [
    "for i, (k, v) in enumerate(v5_state_dict.items()):\n",
    "    # print(k, v.shape)\n",
    "    pass"
   ]
  },
  {
   "cell_type": "code",
   "execution_count": null,
   "id": "c31fba55",
   "metadata": {
    "scrolled": true,
    "tags": []
   },
   "outputs": [],
   "source": [
    "v5_total_k, v5_total_v = [], []\n",
    "v5_focus_layer = []\n",
    "v5_stage_1_conv = []\n",
    "for i, (k, v) in enumerate(v5_state_dict.items()):\n",
    "    if 'anchor' not in k:\n",
    "        v5_total_k.append(k)\n",
    "        v5_total_v.append(v)\n",
    "        # print(f'{i}: {k}\\t\\t{v.shape}')\n",
    "    if \"model.0\" in k:\n",
    "        v5_focus_layer.append(v)\n",
    "    if \"model.1\" in k:\n",
    "        v5_stage_1_conv.append(v)"
   ]
  },
  {
   "cell_type": "code",
   "execution_count": 14,
   "id": "264fb90f",
   "metadata": {},
   "outputs": [
    {
     "data": {
      "text/plain": [
       "(414, 348)"
      ]
     },
     "execution_count": 14,
     "metadata": {},
     "output_type": "execute_result"
    }
   ],
   "source": [
    "len(my_total_k), len(v5_total_k)"
   ]
  },
  {
   "cell_type": "code",
   "execution_count": 15,
   "id": "c593c699",
   "metadata": {
    "scrolled": true
   },
   "outputs": [
    {
     "name": "stdout",
     "output_type": "stream",
     "text": [
      "342\n",
      "343\n",
      "344\n",
      "345\n",
      "346\n",
      "347\n"
     ]
    }
   ],
   "source": [
    "for i in range(min(len(my_total_k), len(v5_total_k))):\n",
    "    if my_total_v[i].shape != v5_total_v[i].shape:\n",
    "        print(i)"
   ]
  },
  {
   "cell_type": "markdown",
   "id": "599fa25f",
   "metadata": {},
   "source": [
    "## load prarmeters"
   ]
  },
  {
   "cell_type": "code",
   "execution_count": null,
   "id": "0d677d17",
   "metadata": {},
   "outputs": [],
   "source": [
    "i = 0\n",
    "total = v5_total_v[:]\n",
    "for m in yolo.modules():\n",
    "    if i >= 342:  # 只load两个网络间相同layer的参数，其他参数使用默认初始化\n",
    "        continue\n",
    "    if isinstance(m, torch.nn.Conv2d):\n",
    "        m.weight.data = total[i]\n",
    "        # print(m.weight.data.shape, total[i].shape)\n",
    "        i += 1\n",
    "        if m.bias is not None:\n",
    "            m.bias.data = total[i]\n",
    "            i += 1\n",
    "        \n",
    "    if isinstance(m, torch.nn.BatchNorm2d):\n",
    "        m.weight.data = total[i]\n",
    "        i += 1\n",
    "        m.bias.data = total[i]\n",
    "        i += 1\n",
    "        m.running_mean = total[i]\n",
    "        i += 1\n",
    "        m.running_var = total[i]\n",
    "        i += 1\n",
    "        m.num_batches_tracked = total[i]\n",
    "        i += 1"
   ]
  },
  {
   "cell_type": "code",
   "execution_count": 17,
   "id": "04aa4315",
   "metadata": {},
   "outputs": [
    {
     "data": {
      "text/plain": [
       "342"
      ]
     },
     "execution_count": 17,
     "metadata": {},
     "output_type": "execute_result"
    }
   ],
   "source": [
    "i"
   ]
  },
  {
   "cell_type": "markdown",
   "id": "5fc9c785",
   "metadata": {},
   "source": [
    "## check"
   ]
  },
  {
   "cell_type": "code",
   "execution_count": 18,
   "id": "b652d3c7",
   "metadata": {},
   "outputs": [],
   "source": [
    "i = 0\n",
    "total = v5_total_v[:]\n",
    "for m in yolo.modules():\n",
    "    if i >= 342:  # 只检查上一步load参数是否一致\n",
    "        continue\n",
    "    if isinstance(m, torch.nn.Conv2d):\n",
    "        assert (m.weight.data == total[i]).all()\n",
    "        i += 1\n",
    "        if m.bias is not None:\n",
    "            assert (m.bias.data == total[i]).all()\n",
    "            i += 1\n",
    "    if isinstance(m, torch.nn.BatchNorm2d):\n",
    "        assert (m.weight.data == total[i]).all()\n",
    "        i += 1\n",
    "        assert (m.bias.data == total[i]).all()\n",
    "        i += 1\n",
    "        assert (m.running_mean == total[i]).all()\n",
    "        i += 1\n",
    "        assert (m.running_var == total[i]).all()\n",
    "        i += 1\n",
    "        assert (m.num_batches_tracked == total[i]).all()\n",
    "        i += 1"
   ]
  },
  {
   "cell_type": "code",
   "execution_count": 19,
   "id": "0afff0e8",
   "metadata": {},
   "outputs": [],
   "source": [
    "my_output_state = yolo.state_dict()\n",
    "torch.save({'model_state_dict': my_output_state}, \"/home/uih/JYL/Programs/YOLO_ckpts/yolox_small_for_wheat.pth\")"
   ]
  },
  {
   "cell_type": "code",
   "execution_count": null,
   "id": "3a2efacd",
   "metadata": {},
   "outputs": [],
   "source": []
  }
 ],
 "metadata": {
  "kernelspec": {
   "display_name": "Python 3 (ipykernel)",
   "language": "python",
   "name": "python3"
  },
  "language_info": {
   "codemirror_mode": {
    "name": "ipython",
    "version": 3
   },
   "file_extension": ".py",
   "mimetype": "text/x-python",
   "name": "python",
   "nbconvert_exporter": "python",
   "pygments_lexer": "ipython3",
   "version": "3.8.8"
  }
 },
 "nbformat": 4,
 "nbformat_minor": 5
}

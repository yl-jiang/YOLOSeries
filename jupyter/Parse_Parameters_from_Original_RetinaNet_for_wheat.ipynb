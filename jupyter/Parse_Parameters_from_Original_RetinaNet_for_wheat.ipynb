{
 "cells": [
  {
   "cell_type": "code",
   "execution_count": 1,
   "id": "6fc7816f",
   "metadata": {},
   "outputs": [],
   "source": [
    "import sys\n",
    "sys.path.insert(0, \"/home/uih/JYL/Programs/YOLO/\")\n",
    "import torch\n",
    "from models import RetinaNet"
   ]
  },
  {
   "cell_type": "code",
   "execution_count": 2,
   "id": "c0622cd3",
   "metadata": {},
   "outputs": [],
   "source": [
    "class_num = 20"
   ]
  },
  {
   "cell_type": "code",
   "execution_count": 3,
   "id": "6d3e377a",
   "metadata": {},
   "outputs": [],
   "source": [
    "model = RetinaNet(9, class_num, [3, 4, 6, 3], freeze_bn=False)\n",
    "my_state_dict = model.state_dict()"
   ]
  },
  {
   "cell_type": "code",
   "execution_count": 4,
   "id": "ed20e690",
   "metadata": {
    "scrolled": true,
    "tags": []
   },
   "outputs": [],
   "source": [
    "my_total_k = []\n",
    "my_total_v = []\n",
    "for i, (k, v) in enumerate(my_state_dict.items()):\n",
    "    my_total_k.append(k)\n",
    "    my_total_v.append(v)\n",
    "    # print(f'{i}: {k}\\t\\t{v.shape}')"
   ]
  },
  {
   "cell_type": "code",
   "execution_count": 5,
   "id": "597fb691",
   "metadata": {},
   "outputs": [],
   "source": [
    "org_state_dict = torch.load('/home/uih/JYL/Programs/YOLO_ckpts/retinanet_for_coco.pth', map_location='cpu')"
   ]
  },
  {
   "cell_type": "code",
   "execution_count": 6,
   "id": "d62d4fb7",
   "metadata": {},
   "outputs": [],
   "source": [
    "org_state_dict = org_state_dict['model_state_dict']"
   ]
  },
  {
   "cell_type": "code",
   "execution_count": 7,
   "id": "c31fba55",
   "metadata": {
    "scrolled": true,
    "tags": []
   },
   "outputs": [],
   "source": [
    "org_total_k, org_total_v = [], []\n",
    "\n",
    "for i, (k, v) in enumerate(org_state_dict.items()):\n",
    "    org_total_k.append(k)\n",
    "    org_total_v.append(v)\n",
    "    # print(f'{i}: {k}\\t\\t{v.shape}')"
   ]
  },
  {
   "cell_type": "code",
   "execution_count": 8,
   "id": "6d3ac90c",
   "metadata": {},
   "outputs": [
    {
     "name": "stdout",
     "output_type": "stream",
     "text": [
      "342\n",
      "343\n"
     ]
    }
   ],
   "source": [
    "i = 0\n",
    "for org, my in zip(org_total_v, my_total_v):\n",
    "    if org.shape != my.shape:\n",
    "        print(i)\n",
    "    i += 1"
   ]
  },
  {
   "cell_type": "markdown",
   "id": "599fa25f",
   "metadata": {},
   "source": [
    "## load prarmeters"
   ]
  },
  {
   "cell_type": "code",
   "execution_count": 9,
   "id": "0d677d17",
   "metadata": {},
   "outputs": [],
   "source": [
    "i = 0\n",
    "total = org_total_v[:]\n",
    "for m in model.modules():\n",
    "    if i in [342, 343]:\n",
    "        i += 1\n",
    "        continue\n",
    "    if isinstance(m, torch.nn.Conv2d):\n",
    "        assert m.weight.data.shape == total[i].shape, f\"{m.weight.data.shape},\\t{total[i].shape}\"\n",
    "        m.weight.data = total[i]\n",
    "        # print(m.weight.data.shape, total[i].shape)\n",
    "        i += 1\n",
    "        if m.bias is not None:\n",
    "            assert m.bias.data.shape == total[i].shape\n",
    "            m.bias.data = total[i]\n",
    "            i += 1\n",
    "        \n",
    "    if isinstance(m, torch.nn.BatchNorm2d):\n",
    "        assert m.weight.data.shape == total[i].shape\n",
    "        m.weight.data = total[i]\n",
    "        i += 1\n",
    "        assert m.bias.data.shape == total[i].shape\n",
    "        m.bias.data = total[i]\n",
    "        i += 1\n",
    "        assert m.running_mean.shape == total[i].shape\n",
    "        m.running_mean = total[i]\n",
    "        i += 1\n",
    "        assert m.running_var.shape == total[i].shape\n",
    "        m.running_var = total[i]\n",
    "        i += 1\n",
    "        m.num_batches_tracked = total[i]\n",
    "        i += 1"
   ]
  },
  {
   "cell_type": "code",
   "execution_count": 10,
   "id": "04aa4315",
   "metadata": {},
   "outputs": [
    {
     "data": {
      "text/plain": [
       "354"
      ]
     },
     "execution_count": 10,
     "metadata": {},
     "output_type": "execute_result"
    }
   ],
   "source": [
    "i"
   ]
  },
  {
   "cell_type": "markdown",
   "id": "5fc9c785",
   "metadata": {},
   "source": [
    "## check"
   ]
  },
  {
   "cell_type": "code",
   "execution_count": 11,
   "id": "b652d3c7",
   "metadata": {},
   "outputs": [],
   "source": [
    "i = 0\n",
    "total = org_total_v[:]\n",
    "for m in model.modules():\n",
    "    if i in [342, 343]:\n",
    "        i += 1\n",
    "        continue\n",
    "    if isinstance(m, torch.nn.Conv2d):\n",
    "        assert (m.weight.data == total[i]).all()\n",
    "        i += 1\n",
    "        if m.bias is not None:\n",
    "            assert (m.bias.data == total[i]).all()\n",
    "            i += 1\n",
    "    if isinstance(m, torch.nn.BatchNorm2d):\n",
    "        assert (m.weight.data == total[i]).all()\n",
    "        i += 1\n",
    "        assert (m.bias.data == total[i]).all()\n",
    "        i += 1\n",
    "        assert (m.running_mean == total[i]).all()\n",
    "        i += 1\n",
    "        assert (m.running_var == total[i]).all()\n",
    "        i += 1\n",
    "        assert (m.num_batches_tracked == total[i]).all()\n",
    "        i += 1"
   ]
  },
  {
   "cell_type": "code",
   "execution_count": 12,
   "id": "0afff0e8",
   "metadata": {},
   "outputs": [],
   "source": [
    "my_output_state = model.cpu().state_dict()\n",
    "torch.save({'model_state_dict': my_output_state}, \"/home/uih/JYL/Programs/YOLO_ckpts/retinanet_for_voc.pth\")"
   ]
  },
  {
   "cell_type": "code",
   "execution_count": 14,
   "id": "3a2efacd",
   "metadata": {},
   "outputs": [
    {
     "data": {
      "text/plain": [
       "<All keys matched successfully>"
      ]
     },
     "execution_count": 14,
     "metadata": {},
     "output_type": "execute_result"
    }
   ],
   "source": [
    "st = torch.load('/home/uih/JYL/Programs/YOLO_ckpts/retinanet_for_voc.pth')\n",
    "model.load_state_dict(st[\"model_state_dict\"])"
   ]
  },
  {
   "cell_type": "code",
   "execution_count": null,
   "id": "fe4be58d",
   "metadata": {},
   "outputs": [],
   "source": []
  }
 ],
 "metadata": {
  "kernelspec": {
   "display_name": "Python 3 (ipykernel)",
   "language": "python",
   "name": "python3"
  },
  "language_info": {
   "codemirror_mode": {
    "name": "ipython",
    "version": 3
   },
   "file_extension": ".py",
   "mimetype": "text/x-python",
   "name": "python",
   "nbconvert_exporter": "python",
   "pygments_lexer": "ipython3",
   "version": "3.8.8"
  }
 },
 "nbformat": 4,
 "nbformat_minor": 5
}

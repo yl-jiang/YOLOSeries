{
 "cells": [
  {
   "cell_type": "code",
   "execution_count": 1,
   "metadata": {},
   "outputs": [],
   "source": [
    "import torch"
   ]
  },
  {
   "cell_type": "code",
   "execution_count": 4,
   "metadata": {},
   "outputs": [],
   "source": [
    "n = 10\n",
    "box_num = 6\n",
    "anchor_num = 3"
   ]
  },
  {
   "cell_type": "code",
   "execution_count": 3,
   "metadata": {},
   "outputs": [],
   "source": [
    "targets = torch.rand(n, box_num, 5)"
   ]
  },
  {
   "cell_type": "code",
   "execution_count": 5,
   "metadata": {},
   "outputs": [],
   "source": [
    "targets = targets.repeat(anchor_num, 1, 1, 1)"
   ]
  },
  {
   "cell_type": "code",
   "execution_count": 6,
   "metadata": {},
   "outputs": [
    {
     "data": {
      "text/plain": [
       "torch.Size([3, 10, 6, 5])"
      ]
     },
     "execution_count": 6,
     "metadata": {},
     "output_type": "execute_result"
    }
   ],
   "source": [
    "targets.shape"
   ]
  },
  {
   "cell_type": "code",
   "execution_count": 66,
   "metadata": {
    "scrolled": true
   },
   "outputs": [
    {
     "data": {
      "text/plain": [
       "torch.Size([3, 10, 6, 1])"
      ]
     },
     "execution_count": 66,
     "metadata": {},
     "output_type": "execute_result"
    }
   ],
   "source": [
    "anchor_id = torch.arange(anchor_num).reshape(-1,1)\n",
    "anchor_id = anchor_id[:, None,None, :].repeat(1, 10, 6, 1)\n",
    "anchor_id.shape"
   ]
  },
  {
   "cell_type": "code",
   "execution_count": 64,
   "metadata": {
    "scrolled": true
   },
   "outputs": [
    {
     "data": {
      "text/plain": [
       "tensor([[[[0],\n",
       "          [0],\n",
       "          [0],\n",
       "          [0],\n",
       "          [0],\n",
       "          [0]],\n",
       "\n",
       "         [[0],\n",
       "          [0],\n",
       "          [0],\n",
       "          [0],\n",
       "          [0],\n",
       "          [0]],\n",
       "\n",
       "         [[0],\n",
       "          [0],\n",
       "          [0],\n",
       "          [0],\n",
       "          [0],\n",
       "          [0]],\n",
       "\n",
       "         [[0],\n",
       "          [0],\n",
       "          [0],\n",
       "          [0],\n",
       "          [0],\n",
       "          [0]],\n",
       "\n",
       "         [[0],\n",
       "          [0],\n",
       "          [0],\n",
       "          [0],\n",
       "          [0],\n",
       "          [0]],\n",
       "\n",
       "         [[0],\n",
       "          [0],\n",
       "          [0],\n",
       "          [0],\n",
       "          [0],\n",
       "          [0]],\n",
       "\n",
       "         [[0],\n",
       "          [0],\n",
       "          [0],\n",
       "          [0],\n",
       "          [0],\n",
       "          [0]],\n",
       "\n",
       "         [[0],\n",
       "          [0],\n",
       "          [0],\n",
       "          [0],\n",
       "          [0],\n",
       "          [0]],\n",
       "\n",
       "         [[0],\n",
       "          [0],\n",
       "          [0],\n",
       "          [0],\n",
       "          [0],\n",
       "          [0]],\n",
       "\n",
       "         [[0],\n",
       "          [0],\n",
       "          [0],\n",
       "          [0],\n",
       "          [0],\n",
       "          [0]]],\n",
       "\n",
       "\n",
       "        [[[1],\n",
       "          [1],\n",
       "          [1],\n",
       "          [1],\n",
       "          [1],\n",
       "          [1]],\n",
       "\n",
       "         [[1],\n",
       "          [1],\n",
       "          [1],\n",
       "          [1],\n",
       "          [1],\n",
       "          [1]],\n",
       "\n",
       "         [[1],\n",
       "          [1],\n",
       "          [1],\n",
       "          [1],\n",
       "          [1],\n",
       "          [1]],\n",
       "\n",
       "         [[1],\n",
       "          [1],\n",
       "          [1],\n",
       "          [1],\n",
       "          [1],\n",
       "          [1]],\n",
       "\n",
       "         [[1],\n",
       "          [1],\n",
       "          [1],\n",
       "          [1],\n",
       "          [1],\n",
       "          [1]],\n",
       "\n",
       "         [[1],\n",
       "          [1],\n",
       "          [1],\n",
       "          [1],\n",
       "          [1],\n",
       "          [1]],\n",
       "\n",
       "         [[1],\n",
       "          [1],\n",
       "          [1],\n",
       "          [1],\n",
       "          [1],\n",
       "          [1]],\n",
       "\n",
       "         [[1],\n",
       "          [1],\n",
       "          [1],\n",
       "          [1],\n",
       "          [1],\n",
       "          [1]],\n",
       "\n",
       "         [[1],\n",
       "          [1],\n",
       "          [1],\n",
       "          [1],\n",
       "          [1],\n",
       "          [1]],\n",
       "\n",
       "         [[1],\n",
       "          [1],\n",
       "          [1],\n",
       "          [1],\n",
       "          [1],\n",
       "          [1]]],\n",
       "\n",
       "\n",
       "        [[[2],\n",
       "          [2],\n",
       "          [2],\n",
       "          [2],\n",
       "          [2],\n",
       "          [2]],\n",
       "\n",
       "         [[2],\n",
       "          [2],\n",
       "          [2],\n",
       "          [2],\n",
       "          [2],\n",
       "          [2]],\n",
       "\n",
       "         [[2],\n",
       "          [2],\n",
       "          [2],\n",
       "          [2],\n",
       "          [2],\n",
       "          [2]],\n",
       "\n",
       "         [[2],\n",
       "          [2],\n",
       "          [2],\n",
       "          [2],\n",
       "          [2],\n",
       "          [2]],\n",
       "\n",
       "         [[2],\n",
       "          [2],\n",
       "          [2],\n",
       "          [2],\n",
       "          [2],\n",
       "          [2]],\n",
       "\n",
       "         [[2],\n",
       "          [2],\n",
       "          [2],\n",
       "          [2],\n",
       "          [2],\n",
       "          [2]],\n",
       "\n",
       "         [[2],\n",
       "          [2],\n",
       "          [2],\n",
       "          [2],\n",
       "          [2],\n",
       "          [2]],\n",
       "\n",
       "         [[2],\n",
       "          [2],\n",
       "          [2],\n",
       "          [2],\n",
       "          [2],\n",
       "          [2]],\n",
       "\n",
       "         [[2],\n",
       "          [2],\n",
       "          [2],\n",
       "          [2],\n",
       "          [2],\n",
       "          [2]],\n",
       "\n",
       "         [[2],\n",
       "          [2],\n",
       "          [2],\n",
       "          [2],\n",
       "          [2],\n",
       "          [2]]]])"
      ]
     },
     "execution_count": 64,
     "metadata": {},
     "output_type": "execute_result"
    }
   ],
   "source": [
    "anchor_id"
   ]
  },
  {
   "cell_type": "code",
   "execution_count": 65,
   "metadata": {
    "scrolled": true
   },
   "outputs": [
    {
     "data": {
      "text/plain": [
       "tensor([[[0],\n",
       "         [0],\n",
       "         [0],\n",
       "         [0],\n",
       "         [0],\n",
       "         [0]],\n",
       "\n",
       "        [[0],\n",
       "         [0],\n",
       "         [0],\n",
       "         [0],\n",
       "         [0],\n",
       "         [0]],\n",
       "\n",
       "        [[0],\n",
       "         [0],\n",
       "         [0],\n",
       "         [0],\n",
       "         [0],\n",
       "         [0]],\n",
       "\n",
       "        [[0],\n",
       "         [0],\n",
       "         [0],\n",
       "         [0],\n",
       "         [0],\n",
       "         [0]],\n",
       "\n",
       "        [[0],\n",
       "         [0],\n",
       "         [0],\n",
       "         [0],\n",
       "         [0],\n",
       "         [0]],\n",
       "\n",
       "        [[0],\n",
       "         [0],\n",
       "         [0],\n",
       "         [0],\n",
       "         [0],\n",
       "         [0]],\n",
       "\n",
       "        [[0],\n",
       "         [0],\n",
       "         [0],\n",
       "         [0],\n",
       "         [0],\n",
       "         [0]],\n",
       "\n",
       "        [[0],\n",
       "         [0],\n",
       "         [0],\n",
       "         [0],\n",
       "         [0],\n",
       "         [0]],\n",
       "\n",
       "        [[0],\n",
       "         [0],\n",
       "         [0],\n",
       "         [0],\n",
       "         [0],\n",
       "         [0]],\n",
       "\n",
       "        [[0],\n",
       "         [0],\n",
       "         [0],\n",
       "         [0],\n",
       "         [0],\n",
       "         [0]]])"
      ]
     },
     "execution_count": 65,
     "metadata": {},
     "output_type": "execute_result"
    }
   ],
   "source": [
    "anchor_id[0, ...]"
   ]
  },
  {
   "cell_type": "code",
   "execution_count": 68,
   "metadata": {},
   "outputs": [],
   "source": [
    "a = torch.cat([targets, anchor_id], dim=-1)"
   ]
  },
  {
   "cell_type": "code",
   "execution_count": 70,
   "metadata": {
    "scrolled": true
   },
   "outputs": [
    {
     "data": {
      "text/plain": [
       "tensor([[0., 0., 0., 0., 0., 0.],\n",
       "        [0., 0., 0., 0., 0., 0.],\n",
       "        [0., 0., 0., 0., 0., 0.],\n",
       "        [0., 0., 0., 0., 0., 0.],\n",
       "        [0., 0., 0., 0., 0., 0.],\n",
       "        [0., 0., 0., 0., 0., 0.],\n",
       "        [0., 0., 0., 0., 0., 0.],\n",
       "        [0., 0., 0., 0., 0., 0.],\n",
       "        [0., 0., 0., 0., 0., 0.],\n",
       "        [0., 0., 0., 0., 0., 0.]])"
      ]
     },
     "execution_count": 70,
     "metadata": {},
     "output_type": "execute_result"
    }
   ],
   "source": [
    "a[0, ...][..., -1]"
   ]
  },
  {
   "cell_type": "code",
   "execution_count": 71,
   "metadata": {},
   "outputs": [
    {
     "data": {
      "text/plain": [
       "tensor([[1., 1., 1., 1., 1., 1.],\n",
       "        [1., 1., 1., 1., 1., 1.],\n",
       "        [1., 1., 1., 1., 1., 1.],\n",
       "        [1., 1., 1., 1., 1., 1.],\n",
       "        [1., 1., 1., 1., 1., 1.],\n",
       "        [1., 1., 1., 1., 1., 1.],\n",
       "        [1., 1., 1., 1., 1., 1.],\n",
       "        [1., 1., 1., 1., 1., 1.],\n",
       "        [1., 1., 1., 1., 1., 1.],\n",
       "        [1., 1., 1., 1., 1., 1.]])"
      ]
     },
     "execution_count": 71,
     "metadata": {},
     "output_type": "execute_result"
    }
   ],
   "source": [
    "a[1, ...][..., -1]"
   ]
  },
  {
   "cell_type": "code",
   "execution_count": 73,
   "metadata": {
    "scrolled": true
   },
   "outputs": [],
   "source": [
    "anchor = torch.rand(3, 2)\n",
    "b = anchor[:, None, None, :].repeat(1, n, box_num, 1)"
   ]
  },
  {
   "cell_type": "code",
   "execution_count": 74,
   "metadata": {
    "scrolled": true
   },
   "outputs": [
    {
     "data": {
      "text/plain": [
       "tensor([[[0.8653, 0.4055],\n",
       "         [0.8653, 0.4055],\n",
       "         [0.8653, 0.4055],\n",
       "         [0.8653, 0.4055],\n",
       "         [0.8653, 0.4055],\n",
       "         [0.8653, 0.4055]],\n",
       "\n",
       "        [[0.8653, 0.4055],\n",
       "         [0.8653, 0.4055],\n",
       "         [0.8653, 0.4055],\n",
       "         [0.8653, 0.4055],\n",
       "         [0.8653, 0.4055],\n",
       "         [0.8653, 0.4055]],\n",
       "\n",
       "        [[0.8653, 0.4055],\n",
       "         [0.8653, 0.4055],\n",
       "         [0.8653, 0.4055],\n",
       "         [0.8653, 0.4055],\n",
       "         [0.8653, 0.4055],\n",
       "         [0.8653, 0.4055]],\n",
       "\n",
       "        [[0.8653, 0.4055],\n",
       "         [0.8653, 0.4055],\n",
       "         [0.8653, 0.4055],\n",
       "         [0.8653, 0.4055],\n",
       "         [0.8653, 0.4055],\n",
       "         [0.8653, 0.4055]],\n",
       "\n",
       "        [[0.8653, 0.4055],\n",
       "         [0.8653, 0.4055],\n",
       "         [0.8653, 0.4055],\n",
       "         [0.8653, 0.4055],\n",
       "         [0.8653, 0.4055],\n",
       "         [0.8653, 0.4055]],\n",
       "\n",
       "        [[0.8653, 0.4055],\n",
       "         [0.8653, 0.4055],\n",
       "         [0.8653, 0.4055],\n",
       "         [0.8653, 0.4055],\n",
       "         [0.8653, 0.4055],\n",
       "         [0.8653, 0.4055]],\n",
       "\n",
       "        [[0.8653, 0.4055],\n",
       "         [0.8653, 0.4055],\n",
       "         [0.8653, 0.4055],\n",
       "         [0.8653, 0.4055],\n",
       "         [0.8653, 0.4055],\n",
       "         [0.8653, 0.4055]],\n",
       "\n",
       "        [[0.8653, 0.4055],\n",
       "         [0.8653, 0.4055],\n",
       "         [0.8653, 0.4055],\n",
       "         [0.8653, 0.4055],\n",
       "         [0.8653, 0.4055],\n",
       "         [0.8653, 0.4055]],\n",
       "\n",
       "        [[0.8653, 0.4055],\n",
       "         [0.8653, 0.4055],\n",
       "         [0.8653, 0.4055],\n",
       "         [0.8653, 0.4055],\n",
       "         [0.8653, 0.4055],\n",
       "         [0.8653, 0.4055]],\n",
       "\n",
       "        [[0.8653, 0.4055],\n",
       "         [0.8653, 0.4055],\n",
       "         [0.8653, 0.4055],\n",
       "         [0.8653, 0.4055],\n",
       "         [0.8653, 0.4055],\n",
       "         [0.8653, 0.4055]]])"
      ]
     },
     "execution_count": 74,
     "metadata": {},
     "output_type": "execute_result"
    }
   ],
   "source": [
    "b[0, ...]"
   ]
  },
  {
   "cell_type": "code",
   "execution_count": 75,
   "metadata": {},
   "outputs": [
    {
     "data": {
      "text/plain": [
       "torch.Size([2, 5])"
      ]
     },
     "execution_count": 75,
     "metadata": {},
     "output_type": "execute_result"
    }
   ],
   "source": [
    "c = torch.rand(5, 2)\n",
    "d = ((c < 0.7) & (c > 0.1)).T\n",
    "d.shape"
   ]
  },
  {
   "cell_type": "code",
   "execution_count": 76,
   "metadata": {},
   "outputs": [
    {
     "data": {
      "text/plain": [
       "tensor([[False, False,  True,  True, False],\n",
       "        [False, False,  True,  True, False]])"
      ]
     },
     "execution_count": 76,
     "metadata": {},
     "output_type": "execute_result"
    }
   ],
   "source": [
    "d"
   ]
  },
  {
   "cell_type": "code",
   "execution_count": 78,
   "metadata": {},
   "outputs": [
    {
     "data": {
      "text/plain": [
       "tensor([False,  True])"
      ]
     },
     "execution_count": 78,
     "metadata": {},
     "output_type": "execute_result"
    }
   ],
   "source": [
    "(torch.tensor([2, 3]) > 2.5) & (torch.tensor([4, 9]) > 3)"
   ]
  },
  {
   "cell_type": "code",
   "execution_count": 80,
   "metadata": {},
   "outputs": [],
   "source": [
    "j = torch.rand(2, 5)\n",
    "k = j.clone()\n",
    "l = j.clone()\n",
    "m = j.clone()"
   ]
  },
  {
   "cell_type": "code",
   "execution_count": 82,
   "metadata": {},
   "outputs": [
    {
     "data": {
      "text/plain": [
       "torch.Size([5, 2, 5])"
      ]
     },
     "execution_count": 82,
     "metadata": {},
     "output_type": "execute_result"
    }
   ],
   "source": [
    "torch.stack((torch.ones_like(j), j, k, l, m)).shape"
   ]
  },
  {
   "cell_type": "code",
   "execution_count": 83,
   "metadata": {},
   "outputs": [
    {
     "data": {
      "text/plain": [
       "torch.Size([5, 5, 7])"
      ]
     },
     "execution_count": 83,
     "metadata": {},
     "output_type": "execute_result"
    }
   ],
   "source": [
    "torch.rand(5, 7).repeat((5, 1,1)).shape"
   ]
  },
  {
   "cell_type": "code",
   "execution_count": 84,
   "metadata": {},
   "outputs": [],
   "source": [
    "t = torch.rand(8, 7)\n",
    "gain = torch.rand(7)\n",
    "g = 0.2\n",
    "\n",
    "\n",
    "gxy = t[:, 2:4]  # grid xy\n",
    "gxi = gain[[2, 3]] - gxy  # inverse\n",
    "j, k = ((gxy % 1. < g) & (gxy > 1.)).T\n",
    "l, m = ((gxi % 1. < g) & (gxi > 1.)).T\n",
    "j = torch.stack((torch.ones_like(j), j, k, l, m))\n",
    "t = t.repeat((5, 1, 1))[j]"
   ]
  },
  {
   "cell_type": "code",
   "execution_count": 85,
   "metadata": {},
   "outputs": [
    {
     "data": {
      "text/plain": [
       "torch.Size([8, 7])"
      ]
     },
     "execution_count": 85,
     "metadata": {},
     "output_type": "execute_result"
    }
   ],
   "source": [
    "t.shape"
   ]
  },
  {
   "cell_type": "code",
   "execution_count": 86,
   "metadata": {},
   "outputs": [
    {
     "data": {
      "text/plain": [
       "torch.Size([5, 8])"
      ]
     },
     "execution_count": 86,
     "metadata": {},
     "output_type": "execute_result"
    }
   ],
   "source": [
    "j.shape"
   ]
  },
  {
   "cell_type": "code",
   "execution_count": 87,
   "metadata": {},
   "outputs": [
    {
     "data": {
      "text/plain": [
       "torch.Size([8])"
      ]
     },
     "execution_count": 87,
     "metadata": {},
     "output_type": "execute_result"
    }
   ],
   "source": [
    "k.shape"
   ]
  },
  {
   "cell_type": "code",
   "execution_count": 91,
   "metadata": {},
   "outputs": [
    {
     "data": {
      "text/plain": [
       "torch.Size([2, 8])"
      ]
     },
     "execution_count": 91,
     "metadata": {},
     "output_type": "execute_result"
    }
   ],
   "source": [
    "((gxy % 1. < g) & (gxy > 1.)).T.shape"
   ]
  },
  {
   "cell_type": "code",
   "execution_count": 94,
   "metadata": {},
   "outputs": [],
   "source": [
    "a = torch.rand(3, 10, 6, 2).max(dim=-1)"
   ]
  },
  {
   "cell_type": "code",
   "execution_count": 97,
   "metadata": {},
   "outputs": [
    {
     "data": {
      "text/plain": [
       "torch.Size([3, 10, 6])"
      ]
     },
     "execution_count": 97,
     "metadata": {},
     "output_type": "execute_result"
    }
   ],
   "source": [
    "a[0].shape"
   ]
  },
  {
   "cell_type": "code",
   "execution_count": 99,
   "metadata": {},
   "outputs": [
    {
     "data": {
      "text/plain": [
       "torch.Size([2, 3, 2])"
      ]
     },
     "execution_count": 99,
     "metadata": {},
     "output_type": "execute_result"
    }
   ],
   "source": [
    "torch.cat([torch.rand(2,3,1), torch.rand(2, 3, 1)], dim=-1).shape"
   ]
  },
  {
   "cell_type": "code",
   "execution_count": 102,
   "metadata": {},
   "outputs": [
    {
     "data": {
      "text/plain": [
       "tensor([[0.8756, 0.9167],\n",
       "        [0.2268, 0.2328],\n",
       "        [0.2744, 0.6802],\n",
       "        [0.2235, 0.7485],\n",
       "        [0.1545, 0.4188],\n",
       "        [0.9568, 0.1291],\n",
       "        [0.0853, 0.2486]])"
      ]
     },
     "execution_count": 102,
     "metadata": {},
     "output_type": "execute_result"
    }
   ],
   "source": [
    "torch.ones(7)[[2, 3]] - torch.rand(7, 2)"
   ]
  },
  {
   "cell_type": "code",
   "execution_count": 104,
   "metadata": {},
   "outputs": [
    {
     "data": {
      "text/plain": [
       "tensor([[0.5562, 0.8990],\n",
       "        [0.8523, 0.4628],\n",
       "        [0.0779, 0.3446],\n",
       "        [0.4740, 0.6386],\n",
       "        [0.8869, 0.3260],\n",
       "        [0.1106, 0.3239],\n",
       "        [0.0422, 0.9846]])"
      ]
     },
     "execution_count": 104,
     "metadata": {},
     "output_type": "execute_result"
    }
   ],
   "source": [
    "torch.tensor([1, 1]) - torch.rand(7, 2)"
   ]
  },
  {
   "cell_type": "code",
   "execution_count": 120,
   "metadata": {},
   "outputs": [],
   "source": [
    "a = torch.rand(6, 2)\n",
    "b = torch.rand(6, 2)\n",
    "c = torch.rand(6, 2)\n",
    "d = torch.rand(6, 2)\n",
    "t = torch.rand(6, 2)"
   ]
  },
  {
   "cell_type": "code",
   "execution_count": 130,
   "metadata": {},
   "outputs": [
    {
     "data": {
      "text/plain": [
       "tensor([True, True, True, True, True, True])"
      ]
     },
     "execution_count": 130,
     "metadata": {},
     "output_type": "execute_result"
    }
   ],
   "source": [
    "xy = (a > 0.1) & (b < 0.8)\n",
    "lc = (c > 0.2) & (d < 0.9)\n",
    "mask = xy.any(-1) | lc.any(-1)\n",
    "mask"
   ]
  },
  {
   "cell_type": "code",
   "execution_count": 134,
   "metadata": {},
   "outputs": [
    {
     "data": {
      "text/plain": [
       "tensor([False,  True, False,  True,  True,  True])"
      ]
     },
     "execution_count": 134,
     "metadata": {},
     "output_type": "execute_result"
    }
   ],
   "source": [
    "xy.any(-1)"
   ]
  },
  {
   "cell_type": "code",
   "execution_count": null,
   "metadata": {},
   "outputs": [],
   "source": []
  },
  {
   "cell_type": "code",
   "execution_count": 131,
   "metadata": {},
   "outputs": [
    {
     "data": {
      "text/plain": [
       "tensor([[0.8731, 0.4953],\n",
       "        [0.4567, 0.3448],\n",
       "        [0.1727, 0.0971],\n",
       "        [0.3415, 0.9663],\n",
       "        [0.3435, 0.9429],\n",
       "        [0.0935, 0.7398]])"
      ]
     },
     "execution_count": 131,
     "metadata": {},
     "output_type": "execute_result"
    }
   ],
   "source": [
    "t1 = t[mask]\n",
    "t1"
   ]
  },
  {
   "cell_type": "code",
   "execution_count": 135,
   "metadata": {},
   "outputs": [
    {
     "name": "stdout",
     "output_type": "stream",
     "text": [
      "tensor([[ True,  True,  True,  True,  True,  True],\n",
      "        [False,  True, False,  True,  True,  True],\n",
      "        [False,  True, False,  True,  True,  True],\n",
      "        [ True, False, False, False,  True,  True],\n",
      "        [ True,  True,  True,  True,  True,  True]])\n"
     ]
    },
    {
     "data": {
      "text/plain": [
       "tensor([[0.8731, 0.4953],\n",
       "        [0.4567, 0.3448],\n",
       "        [0.1727, 0.0971],\n",
       "        [0.3415, 0.9663],\n",
       "        [0.3435, 0.9429],\n",
       "        [0.0935, 0.7398],\n",
       "        [0.4567, 0.3448],\n",
       "        [0.3415, 0.9663],\n",
       "        [0.3435, 0.9429],\n",
       "        [0.0935, 0.7398],\n",
       "        [0.4567, 0.3448],\n",
       "        [0.3415, 0.9663],\n",
       "        [0.3435, 0.9429],\n",
       "        [0.0935, 0.7398],\n",
       "        [0.8731, 0.4953],\n",
       "        [0.3435, 0.9429],\n",
       "        [0.0935, 0.7398],\n",
       "        [0.8731, 0.4953],\n",
       "        [0.4567, 0.3448],\n",
       "        [0.1727, 0.0971],\n",
       "        [0.3415, 0.9663],\n",
       "        [0.3435, 0.9429],\n",
       "        [0.0935, 0.7398]])"
      ]
     },
     "execution_count": 135,
     "metadata": {},
     "output_type": "execute_result"
    }
   ],
   "source": [
    "j, k = ((a > 0.1) & (b < 0.8)).T  # (2, X) -> j: (X); k: (X)\n",
    "l, m = ((c >0.2) & (d < 0.9)).T  # (2, X) -> l: (X); m: (X)\n",
    "# j: (5, X)\n",
    "j = torch.stack((torch.ones_like(j), j, k, l, m))\n",
    "print(j)\n",
    "# (X, 7) -> (5, X, 7) -> (N, 7)\n",
    "t2 = t.repeat((5, 1, 1))[j]\n",
    "t2"
   ]
  },
  {
   "cell_type": "code",
   "execution_count": 133,
   "metadata": {},
   "outputs": [
    {
     "data": {
      "text/plain": [
       "tensor([[ True,  True,  True,  True,  True,  True],\n",
       "        [False,  True, False,  True,  True,  True],\n",
       "        [False,  True, False,  True,  True,  True],\n",
       "        [ True, False, False, False,  True,  True],\n",
       "        [ True,  True,  True,  True,  True,  True]])"
      ]
     },
     "execution_count": 133,
     "metadata": {},
     "output_type": "execute_result"
    }
   ],
   "source": [
    "j"
   ]
  },
  {
   "cell_type": "code",
   "execution_count": 143,
   "metadata": {},
   "outputs": [
    {
     "data": {
      "text/plain": [
       "tensor([[[0.5714, 0.7540],\n",
       "         [1.1203, 0.3795],\n",
       "         [1.0412, 0.1942],\n",
       "         [0.9207, 0.2674],\n",
       "         [0.9076, 1.0052],\n",
       "         [0.7189, 0.1774],\n",
       "         [1.0410, 1.0010],\n",
       "         [0.3055, 0.4389]],\n",
       "\n",
       "        [[1.3365, 1.5638],\n",
       "         [1.8853, 1.1892],\n",
       "         [1.8062, 1.0040],\n",
       "         [1.6857, 1.0771],\n",
       "         [1.6726, 1.8149],\n",
       "         [1.4839, 0.9871],\n",
       "         [1.8060, 1.8107],\n",
       "         [1.0706, 1.2486]],\n",
       "\n",
       "        [[0.6020, 1.3639],\n",
       "         [1.1508, 0.9893],\n",
       "         [1.0718, 0.8041],\n",
       "         [0.9513, 0.8773],\n",
       "         [0.9382, 1.6150],\n",
       "         [0.7495, 0.7872],\n",
       "         [1.0716, 1.6108],\n",
       "         [0.3361, 1.0487]],\n",
       "\n",
       "        [[0.4980, 0.8786],\n",
       "         [1.0468, 0.5041],\n",
       "         [0.9677, 0.3188],\n",
       "         [0.8472, 0.3920],\n",
       "         [0.8341, 1.1298],\n",
       "         [0.6454, 0.3020],\n",
       "         [0.9675, 1.1256],\n",
       "         [0.2321, 0.5635]],\n",
       "\n",
       "        [[0.4108, 1.0450],\n",
       "         [0.9596, 0.6705],\n",
       "         [0.8806, 0.4852],\n",
       "         [0.7601, 0.5584],\n",
       "         [0.7470, 1.2961],\n",
       "         [0.5583, 0.4684],\n",
       "         [0.8804, 1.2920],\n",
       "         [0.1449, 0.7299]]])"
      ]
     },
     "execution_count": 143,
     "metadata": {},
     "output_type": "execute_result"
    }
   ],
   "source": [
    "torch.rand(1, 8, 2) + torch.rand(5, 1, 2)"
   ]
  },
  {
   "cell_type": "code",
   "execution_count": 137,
   "metadata": {},
   "outputs": [
    {
     "data": {
      "text/plain": [
       "torch.Size([1, 6, 2])"
      ]
     },
     "execution_count": 137,
     "metadata": {},
     "output_type": "execute_result"
    }
   ],
   "source": [
    "torch.zeros_like(torch.rand(6, 2))[None].shape"
   ]
  },
  {
   "cell_type": "code",
   "execution_count": 145,
   "metadata": {},
   "outputs": [],
   "source": [
    "off = torch.tensor([[0, 0],[1, 0], [0, 1], [-1, 0], [0, -1]]).float()  # offsets"
   ]
  },
  {
   "cell_type": "code",
   "execution_count": 146,
   "metadata": {},
   "outputs": [
    {
     "data": {
      "text/plain": [
       "torch.Size([5, 2])"
      ]
     },
     "execution_count": 146,
     "metadata": {},
     "output_type": "execute_result"
    }
   ],
   "source": [
    "off.shape"
   ]
  },
  {
   "cell_type": "code",
   "execution_count": 150,
   "metadata": {},
   "outputs": [
    {
     "data": {
      "text/plain": [
       "torch.Size([5, 1, 2])"
      ]
     },
     "execution_count": 150,
     "metadata": {},
     "output_type": "execute_result"
    }
   ],
   "source": [
    "off[:, None, :].shape"
   ]
  },
  {
   "cell_type": "code",
   "execution_count": null,
   "metadata": {},
   "outputs": [],
   "source": []
  }
 ],
 "metadata": {
  "kernelspec": {
   "display_name": "Python 3",
   "language": "python",
   "name": "python3"
  },
  "language_info": {
   "codemirror_mode": {
    "name": "ipython",
    "version": 3
   },
   "file_extension": ".py",
   "mimetype": "text/x-python",
   "name": "python",
   "nbconvert_exporter": "python",
   "pygments_lexer": "ipython3",
   "version": "3.7.0"
  }
 },
 "nbformat": 4,
 "nbformat_minor": 4
}
